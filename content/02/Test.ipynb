{
 "cells": [
  {
   "cell_type": "markdown",
   "metadata": {},
   "source": [
    "# Motivation and Basic Concepts\n",
    "\n",
    "Hello, here's some text.\n",
    "\n",
    "And at least a little formula\n",
    "\n",
    "$\\frac{1}{2}=\\exp{x^2}$"
   ]
  },
  {
   "cell_type": "code",
   "execution_count": 3,
   "metadata": {
    "scrolled": true
   },
   "outputs": [
    {
     "data": {
      "image/png": "[encoded data removed]",
      "text/plain": [
       "<Figure size 432x288 with 1 Axes>"
      ]
     },
     "metadata": {
      "needs_background": "light"
     },
     "output_type": "display_data"
    }
   ],
   "source": [
    "import numpy as np\n",
    "import matplotlib.pyplot as plt\n",
    "\n",
    "np.random.seed(5)\n",
    "\n",
    "x=np.linspace(0,2,50)\n",
    "b0=1\n",
    "b1=0.5\n",
    "beta=np.array([b0,b1])\n",
    "sigma2=0.2\n",
    "\n",
    "def fun(x,beta):\n",
    "    return beta[0]*(2-x)+beta[1]*x**3\n",
    "\n",
    "data=fun(x,beta)+sigma2*np.random.normal(0,1,x.size)\n",
    "\n",
    "plt.figure(1)\n",
    "plt.plot(x, data, 'rx')\n",
    "plt.axis([0, 2, 1, 4.5])\n",
    "plt.xlabel('y')\n",
    "plt.ylabel('x')\n",
    "\n",
    "\n",
    "X=np.array([2-x,x**3])\n",
    "Xt=np.transpose(X)\n",
    "y=data"
   ]
  }
 ],
 "metadata": {
  "kernelspec": {
   "display_name": "Python 3",
   "language": "python",
   "name": "python3"
  },
  "language_info": {
   "codemirror_mode": {
    "name": "ipython",
    "version": 3
   },
   "file_extension": ".py",
   "mimetype": "text/x-python",
   "name": "python",
   "nbconvert_exporter": "python",
   "pygments_lexer": "ipython3",
   "version": "3.7.1"
  }
 },
 "nbformat": 4,
 "nbformat_minor": 2
}
