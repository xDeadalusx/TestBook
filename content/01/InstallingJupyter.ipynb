{
 "cells": [
  {
   "cell_type": "markdown",
   "metadata": {},
   "source": [
    "# Installing Python and Jupyter Notebook\n",
    "\n",
    "The first thing you will need to do to participate in this course is to install Python on your personal PC. You need approximately 3GB free space on your hard drive. Without Python, you will not be able to participate since we want to enforce active learning in this course and this means that you need to be able to code in Python!\n",
    "\n",
    "While it is generally up to you which Python distribution you want to install, we strongly recommend to use Anaconda. It is the most widely used Python distribution, easy to install and it includes Jupyter Notebook, which you will need for your project work.\n",
    "\n",
    "**Installation and getting started**\n",
    "\n",
    "1. Go to [https://www.anaconda.com/distribution/](https://www.anaconda.com/distribution/) and download Python version 3.7 for the operating system that you are using (Windows, Mac and Linux are supported).\n",
    "\n",
    "1. After installation, open Anaconda Navigator. You should see a window similar to this one:\n",
    "\n",
    "    ![Anaconda Opening Screen](Figures/Anaconda.png)\n",
    "\n",
    "1. On the Anaconda Navigator opening screen, click on \"Launch\" Jupyter Notebook. A new tab will be opened in your standard internet browser:\n",
    "\n",
    "    ![Jupyter Notebook Home Screen](Figures/JupyterHome.png)\n",
    "\n",
    "1. To open your first Jupyter Notebook, click on \"New\" on the right of the Jupyter Notebook Home screen and then on \"Python 3\". A new tab will be opened in which you can start coding in Python!\n",
    "\n",
    "    ![Jupyter Notebook](Figures/JupyterNotebook.png)\n",
    "\n",
    "You may also use other Python editors but the beauty of Jupyter Notebooks is that it has a very clean appearance which makes it easy for you to focus on the most important things (programming) and you can easily add text (in Markdown language) in between your code to describe and document what you are doing. This will help learning and revisiting problems during the course and communicating your results to us or your peers and friends. Therefore, we strongly recommend to use Jupyter Notebooks for coding.\n",
    "\n",
    "For a more exhaustive introduction and explanation of Jupyter Notebook, please refer to the official documentation at:\n",
    "\n",
    "[https://jupyter-notebook.readthedocs.io/en/stable/examples/Notebook/Notebook%20Basics.html](https://jupyter-notebook.readthedocs.io/en/stable/examples/Notebook/Notebook%20Basics.html)\n",
    "\n",
    "*Congratulations, you (and your PC) are now ready for the course!*"
   ]
  },
  {
   "cell_type": "markdown",
   "metadata": {},
   "source": [
    "# Optional: Advanced Jupyter Notebook Features\n",
    "\n",
    "To further enhance your programming experience, you may install Jupyter Notebook extensions as follows.\n",
    "\n",
    "**Note: Installing Jupyter Notebook extensions is not necessary for the course! We recommend to skip this for now and try it later when you became more familiar with Jupyter Notebook.**\n",
    "\n",
    "1. From the Jupyter Notebook Home screen, click on \"New\" and then on \"Terminal\":\n",
    "\n",
    "    ![Jupyter Start Terminal](Figures/JupyterStartTerminal.png)\n",
    "    \n",
    "1. A new terminal will be opened, which will look similar to this:\n",
    "\n",
    "    ![Jupyter Terminal](Figures/JupyterTerminal.png)\n",
    "\n",
    "1. Copy/type the following command into the terminal\n",
    "    ```\n",
    "    pip install jupyter_contrib_nbextensions; jupyter contrib nbextension install --user\n",
    "    ```\n",
    "    and hit enter.\n",
    "    \n",
    "1. When installation is completed, close all Jupyter tabs in your browser and quit Anaconda. Then restart Anaconda and Jupyter Notebooks. \n",
    "\n",
    "1. Now you should be able to see \"Nbextensions\" on your Jupyter Home screen. Click on it and make sure to uncheck the box saying \"disable configuration for nbextensions without explicit compatibility\".\n",
    "\n",
    "    ![Jupyter Extensions](Figures/JupyterExtensions.png)\n",
    "\n",
    "1. You may now enable or disable several extensions for Jupyter Notebook. For example, you may check \"spellchecker\" for enabling automatic spell checking or \"Toggle all line numbers\" for enabling a button to show the line numbers in your code. There are several other useful extensions which you might be interested in. For a full explanation for what each extension is doing, go to\n",
    "\n",
    "    [https://jupyter-contrib-nbextensions.readthedocs.io/en/latest/nbextensions.html](https://jupyter-contrib-nbextensions.readthedocs.io/en/latest/nbextensions.html) "
   ]
  },
  {
   "cell_type": "code",
   "execution_count": null,
   "metadata": {},
   "outputs": [],
   "source": []
  }
 ],
 "metadata": {
  "kernelspec": {
   "display_name": "Python 3",
   "language": "python",
   "name": "python3"
  },
  "language_info": {
   "codemirror_mode": {
    "name": "ipython",
    "version": 3
   },
   "file_extension": ".py",
   "mimetype": "text/x-python",
   "name": "python",
   "nbconvert_exporter": "python",
   "pygments_lexer": "ipython3",
   "version": "3.7.3"
  },
  "toc": {
   "base_numbering": 1,
   "nav_menu": {},
   "number_sections": true,
   "sideBar": true,
   "skip_h1_title": false,
   "title_cell": "Table of Contents",
   "title_sidebar": "Contents",
   "toc_cell": false,
   "toc_position": {
    "height": "calc(100% - 180px)",
    "left": "10px",
    "top": "150px",
    "width": "384px"
   },
   "toc_section_display": true,
   "toc_window_display": true
  },
  "varInspector": {
   "cols": {
    "lenName": 16,
    "lenType": 16,
    "lenVar": 40
   },
   "kernels_config": {
    "python": {
     "delete_cmd_postfix": "",
     "delete_cmd_prefix": "del ",
     "library": "var_list.py",
     "varRefreshCmd": "print(var_dic_list())"
    },
    "r": {
     "delete_cmd_postfix": ") ",
     "delete_cmd_prefix": "rm(",
     "library": "var_list.r",
     "varRefreshCmd": "cat(var_dic_list()) "
    }
   },
   "position": {
    "height": "220px",
    "left": "1076px",
    "right": "20px",
    "top": "99px",
    "width": "438px"
   },
   "types_to_exclude": [
    "module",
    "function",
    "builtin_function_or_method",
    "instance",
    "_Feature"
   ],
   "window_display": false
  }
 },
 "nbformat": 4,
 "nbformat_minor": 2
}
