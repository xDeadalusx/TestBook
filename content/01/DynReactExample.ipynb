{
 "cells": [
  {
   "cell_type": "markdown",
   "metadata": {},
   "source": [
    "# Dynamic Reactor Example in Python (Method of Lines)\n",
    "\n",
    "The partial derivative equation (PDE) that describes the transient behavior of a plug flow reactor with constant volumetric flow rate is:\n",
    "\n",
    "\\begin{align}\n",
    "\\frac{\\partial c_A}{\\partial t} = -v \\frac{\\partial c_A}{\\partial z} + r_A\n",
    "\\end{align}\n",
    "\n",
    "where $c_A$ is the concentration of a reactant A, $v$ the flow velocity, $z$ the axial reactor coordinate (length) and $r_A$ the reaction rate of reactant A.\n",
    "\n",
    "To solve this numerically in Python, we will utilize the method of lines. The idea is to discretize the reactor in $n$ finite volumes and assume constant concentrations within those volumes and appropriate boundary conditions. Then we will obtain a set of coupled ordinary differential equations (ODEs) that can be solved by a standard ODE solver. If we assume a second order reaction with regard to A, the reaction rate is given as $r_A = -k C^2$. The resulting ODE system is given below:\n",
    "\n",
    "\\begin{align} \n",
    "\\frac{\\mathrm{d} c_{A,0}}{dt} &= 0 \\text{ (entrance concentration never changes)} \\\\ \n",
    "\\frac{\\mathrm{d} c_{A,1}}{dt} &= -\\frac{v}{\\Delta z} \\left(c_{A,1} - c_{A,0}\\right) - k c_{A,1}^2 \\\\ \n",
    "\\frac{\\mathrm{d} c_{A,2}}{dt} &= -\\frac{v}{\\Delta z} \\left(c_{A,2} - c_{A,1}\\right) - k c_{A,2}^2 \\\\ \n",
    "\\vdots \\\\ \n",
    "\\frac{\\mathrm{d} c_{A,n}}{dt} &= -\\frac{v}{\\Delta z} \\left(c_{A,n} - c_{A,n-1}\\right) - k c_{A,n}^2\n",
    "\\end{align}"
   ]
  },
  {
   "cell_type": "code",
   "execution_count": 1,
   "metadata": {},
   "outputs": [
    {
     "name": "stdout",
     "output_type": "stream",
     "text": [
      "[0.2020202 0.2020202 0.2020202 0.2020202 0.2020202 0.2020202 0.2020202\n",
      " 0.2020202 0.2020202 0.2020202 0.2020202 0.2020202 0.2020202 0.2020202\n",
      " 0.2020202 0.2020202 0.2020202 0.2020202 0.2020202 0.2020202 0.2020202\n",
      " 0.2020202 0.2020202 0.2020202 0.2020202 0.2020202 0.2020202 0.2020202\n",
      " 0.2020202 0.2020202 0.2020202 0.2020202 0.2020202 0.2020202 0.2020202\n",
      " 0.2020202 0.2020202 0.2020202 0.2020202 0.2020202 0.2020202 0.2020202\n",
      " 0.2020202 0.2020202 0.2020202 0.2020202 0.2020202 0.2020202 0.2020202\n",
      " 0.2020202 0.2020202 0.2020202 0.2020202 0.2020202 0.2020202 0.2020202\n",
      " 0.2020202 0.2020202 0.2020202 0.2020202 0.2020202 0.2020202 0.2020202\n",
      " 0.2020202 0.2020202 0.2020202 0.2020202 0.2020202 0.2020202 0.2020202\n",
      " 0.2020202 0.2020202 0.2020202 0.2020202 0.2020202 0.2020202 0.2020202\n",
      " 0.2020202 0.2020202 0.2020202 0.2020202 0.2020202 0.2020202 0.2020202\n",
      " 0.2020202 0.2020202 0.2020202 0.2020202 0.2020202 0.2020202 0.2020202\n",
      " 0.2020202 0.2020202 0.2020202 0.2020202 0.2020202 0.2020202 0.2020202\n",
      " 0.2020202]\n"
     ]
    },
    {
     "ename": "NameError",
     "evalue": "name 'pdb' is not defined",
     "output_type": "error",
     "traceback": [
      "\u001b[1;31m---------------------------------------------------------------------------\u001b[0m",
      "\u001b[1;31mNameError\u001b[0m                                 Traceback (most recent call last)",
      "\u001b[1;32m<ipython-input-1-601597815fa7>\u001b[0m in \u001b[0;36m<module>\u001b[1;34m\u001b[0m\n\u001b[0;32m     18\u001b[0m \u001b[0mprint\u001b[0m\u001b[1;33m(\u001b[0m\u001b[0mnp\u001b[0m\u001b[1;33m.\u001b[0m\u001b[0mdiff\u001b[0m\u001b[1;33m(\u001b[0m\u001b[0mdz\u001b[0m\u001b[1;33m)\u001b[0m\u001b[1;33m)\u001b[0m\u001b[1;33m\u001b[0m\u001b[1;33m\u001b[0m\u001b[0m\n\u001b[0;32m     19\u001b[0m \u001b[1;33m\u001b[0m\u001b[0m\n\u001b[1;32m---> 20\u001b[1;33m \u001b[0mpdb\u001b[0m\u001b[1;33m\u001b[0m\u001b[1;33m\u001b[0m\u001b[0m\n\u001b[0m\u001b[0;32m     21\u001b[0m \u001b[1;33m\u001b[0m\u001b[0m\n\u001b[0;32m     22\u001b[0m \u001b[1;32mdef\u001b[0m \u001b[0mODE_system\u001b[0m\u001b[1;33m(\u001b[0m\u001b[0mc\u001b[0m\u001b[1;33m,\u001b[0m \u001b[0mt\u001b[0m\u001b[1;33m)\u001b[0m\u001b[1;33m:\u001b[0m\u001b[1;33m\u001b[0m\u001b[1;33m\u001b[0m\u001b[0m\n",
      "\u001b[1;31mNameError\u001b[0m: name 'pdb' is not defined"
     ]
    }
   ],
   "source": [
    "import numpy as np\n",
    "import matplotlib.pyplot as plt\n",
    "from scipy.integrate import odeint\n",
    "\n",
    "cA_0 = 2    # entering concentration\n",
    "v = 2       # volumetric flow rate\n",
    "z = 20      # total length of reactor\n",
    "k = 1       # reaction rate constant\n",
    "\n",
    "n = 100     # number of points to discretize the reactor volume on\n",
    "\n",
    "init = np.zeros(n)    # concentration in reactor at t = 0\n",
    "init[0] = cA_0        # concentration at entrance\n",
    "\n",
    "dz = np.linspace(0, z, n)  # discretized volume elements\n",
    "tspan = np.linspace(0, 25)     # time span to integrate over\n",
    "\n",
    "print(np.diff(dz))\n",
    "\n",
    "pdb\n",
    "\n",
    "def ODE_system(c, t):\n",
    "    D = -v * np.diff(c) / np.diff(dz) - k * c[1:]**2\n",
    "    return np.concatenate([[0], #c_0 is constant at entrance\n",
    "                            D])\n",
    "\n",
    "\n",
    "sol = odeint(ODE_system, init, tspan)\n",
    "\n",
    "# steady state solution\n",
    "def pfr(c, z):\n",
    "    return 1.0 / v * (-k * c**2)\n",
    "\n",
    "ssol = odeint(pfr, cA_0, dz)\n",
    "\n",
    "\n",
    "plt.figure()\n",
    "plt.plot(tspan, sol[:, -1])\n",
    "plt.xlabel('time')\n",
    "plt.ylabel('$c_A$ at exit')\n",
    "\n",
    "plt.figure()\n",
    "plt.plot(dz, ssol, label='Steady state')\n",
    "plt.plot(dz, sol[-20], label='t = {}'.format(tspan[-20]))\n",
    "plt.xlabel('Volume')\n",
    "plt.ylabel('$c_A$')\n",
    "plt.legend(loc='best')"
   ]
  },
  {
   "cell_type": "code",
   "execution_count": null,
   "metadata": {},
   "outputs": [],
   "source": []
  }
 ],
 "metadata": {
  "kernelspec": {
   "display_name": "Python 3",
   "language": "python",
   "name": "python3"
  },
  "language_info": {
   "codemirror_mode": {
    "name": "ipython",
    "version": 3
   },
   "file_extension": ".py",
   "mimetype": "text/x-python",
   "name": "python",
   "nbconvert_exporter": "python",
   "pygments_lexer": "ipython3",
   "version": "3.7.3"
  },
  "toc": {
   "base_numbering": 1,
   "nav_menu": {},
   "number_sections": true,
   "sideBar": true,
   "skip_h1_title": false,
   "title_cell": "Table of Contents",
   "title_sidebar": "Contents",
   "toc_cell": false,
   "toc_position": {},
   "toc_section_display": true,
   "toc_window_display": false
  },
  "varInspector": {
   "cols": {
    "lenName": 16,
    "lenType": 16,
    "lenVar": 40
   },
   "kernels_config": {
    "python": {
     "delete_cmd_postfix": "",
     "delete_cmd_prefix": "del ",
     "library": "var_list.py",
     "varRefreshCmd": "print(var_dic_list())"
    },
    "r": {
     "delete_cmd_postfix": ") ",
     "delete_cmd_prefix": "rm(",
     "library": "var_list.r",
     "varRefreshCmd": "cat(var_dic_list()) "
    }
   },
   "position": {
    "height": "481px",
    "left": "1117px",
    "right": "20px",
    "top": "97px",
    "width": "635px"
   },
   "types_to_exclude": [
    "module",
    "function",
    "builtin_function_or_method",
    "instance",
    "_Feature"
   ],
   "window_display": false
  }
 },
 "nbformat": 4,
 "nbformat_minor": 2
}
