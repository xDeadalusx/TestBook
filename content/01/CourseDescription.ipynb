{
 "cells": [
  {
   "cell_type": "markdown",
   "metadata": {},
   "source": [
    "## Course Description\n",
    "\n",
    "Welcome to the course \"Data Driven Methods in Chemical Engineering\".\n",
    "\n",
    "In this course, we will do the following:\n",
    "\n",
    "- bla\n",
    "- bla\n",
    "- Apply all the principles in Python\n",
    "\n",
    "In this course you will need to **actively learn the popular programming language Python**! If you are not interested in that, this course is not for you.\n",
    "\n",
    "## Attendance and Learning Material\n",
    "\n",
    "We will offer **weekly lectures** in which you will learn about different data driven methods that are important in chemical engineering. While our focus is on chemical engineering examples we may also include examples from other fields of science as long as the concepts are transferable. We will put the lecture slides online after each lecture as learning material for you.\n",
    "\n",
    "There will be **no classical exercises** in this course, i.e. we will not work through problems on the blackboard. We want to encourage you to learn to code by yourself to get the most out of this course. While a sound theoretical background is important in data science, it is equally important to be able to apply the knowledge, and that means programming by yourself. Therefore, we will provide Jupyter Notebooks that will guide you through the applied programming part of this course. These Jupyter Notebooks are meant for self study but we will offer regular dates where we will meet and you can ask questions.\n",
    "\n",
    "## Project Work\n",
    "\n",
    "To encourage you to actively learn during the course, you will have to solve a **project work** by yourself during the semester which will be graded. The project work will cover all topics of this course and will be handed out early in the semester so that you can self-manage when and how much you will work on it. However, for the best learning experience, we strongly encourage you to directly work on the related topics after we have covered them in the lectures.\n",
    "\n",
    "The project work will be an excellent opportunity for you to learn Python on realistic and industrially relevant examples that you might encounter in your professional career later on.\n",
    "\n",
    "## Exam and Overall Grading\n",
    "\n",
    "At the end of the semester, there will be a **90 min exam**. The exam will *not* include any questions about Python since this is part of the project work. It will rather consist of questions regarding the theoretical background which we cover in the lectures.\n",
    "\n",
    "The **overall grade** for this course will consist of 50% project work and 50% exam. However, you will need to pass both the project work and the exam in order to pass the course (100% in the project work and 0% in the exam will not be enough)."
   ]
  },
  {
   "cell_type": "code",
   "execution_count": null,
   "metadata": {},
   "outputs": [],
   "source": []
  }
 ],
 "metadata": {
  "kernelspec": {
   "display_name": "Python 3",
   "language": "python",
   "name": "python3"
  },
  "language_info": {
   "codemirror_mode": {
    "name": "ipython",
    "version": 3
   },
   "file_extension": ".py",
   "mimetype": "text/x-python",
   "name": "python",
   "nbconvert_exporter": "python",
   "pygments_lexer": "ipython3",
   "version": "3.7.1"
  },
  "toc": {
   "base_numbering": 1,
   "nav_menu": {},
   "number_sections": true,
   "sideBar": true,
   "skip_h1_title": false,
   "title_cell": "Table of Contents",
   "title_sidebar": "Contents",
   "toc_cell": false,
   "toc_position": {},
   "toc_section_display": true,
   "toc_window_display": false
  },
  "varInspector": {
   "cols": {
    "lenName": 16,
    "lenType": 16,
    "lenVar": 40
   },
   "kernels_config": {
    "python": {
     "delete_cmd_postfix": "",
     "delete_cmd_prefix": "del ",
     "library": "var_list.py",
     "varRefreshCmd": "print(var_dic_list())"
    },
    "r": {
     "delete_cmd_postfix": ") ",
     "delete_cmd_prefix": "rm(",
     "library": "var_list.r",
     "varRefreshCmd": "cat(var_dic_list()) "
    }
   },
   "types_to_exclude": [
    "module",
    "function",
    "builtin_function_or_method",
    "instance",
    "_Feature"
   ],
   "window_display": false
  }
 },
 "nbformat": 4,
 "nbformat_minor": 2
}
